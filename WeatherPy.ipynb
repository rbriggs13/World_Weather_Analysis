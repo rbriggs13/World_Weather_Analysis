{
 "cells": [
  {
   "cell_type": "code",
   "execution_count": 1,
   "id": "4172d55a",
   "metadata": {},
   "outputs": [],
   "source": [
    "#importing the dependencies\n",
    "import pandas as pd\n",
    "import matplotlib.pyplot as plt\n",
    "import numpy as np\n",
    "from citipy import citipy"
   ]
  },
  {
   "cell_type": "code",
   "execution_count": 2,
   "id": "5c31f8d0",
   "metadata": {},
   "outputs": [
    {
     "data": {
      "text/plain": [
       "<zip at 0x21ace51dc00>"
      ]
     },
     "execution_count": 2,
     "metadata": {},
     "output_type": "execute_result"
    }
   ],
   "source": [
    "#create a set of random latitude and longitude combinations\n",
    "lats = np.random.uniform(-90, 90, size=1500)\n",
    "lngs = np.random.uniform(-180, 180, size=1500)\n",
    "lat_lngs = zip(lats, lngs)\n",
    "lat_lngs"
   ]
  },
  {
   "cell_type": "code",
   "execution_count": 3,
   "id": "e788feb6",
   "metadata": {},
   "outputs": [],
   "source": [
    "#add the latitudes and longitudes to a list\n",
    "coordinates = list(lat_lngs)"
   ]
  },
  {
   "cell_type": "code",
   "execution_count": 4,
   "id": "5a6b07ac",
   "metadata": {},
   "outputs": [
    {
     "data": {
      "text/plain": [
       "619"
      ]
     },
     "execution_count": 4,
     "metadata": {},
     "output_type": "execute_result"
    }
   ],
   "source": [
    "#create a list for holding the cities\n",
    "cities = []\n",
    "#identify the nearest city for each lat and long combination\n",
    "for coordinate in coordinates:\n",
    "    city = citipy.nearest_city(coordinate[0], coordinate[1]).city_name\n",
    "    \n",
    "    #If the city is unique add it to the list\n",
    "    if city not in cities:\n",
    "        cities.append(city)\n",
    "len(cities)"
   ]
  },
  {
   "cell_type": "code",
   "execution_count": 5,
   "id": "bbce72f9",
   "metadata": {},
   "outputs": [
    {
     "name": "stdout",
     "output_type": "stream",
     "text": [
      "['cape town', 'busselton', 'neryungri', 'los llanos de aridane', 'rikitea', 'arkansas city', 'roald', 'narsaq', 'punta arenas', 'hilo', 'taolanaro', 'cabo san lucas', 'nizhneyansk', 'bathsheba', 'bredasdorp', 'fairbanks', 'castro', 'sorland', 'avarua', 'nikolskoye', 'saleaula', 'souillac', 'nome', 'chandigarh', 'kysyl-syr', 'rungata', 'alta floresta', 'ornskoldsvik', 'la ronge', 'noumea', 'kavieng', 'ushuaia', 'waingapu', 'carnarvon', 'mahebourg', 'bethel', 'luanda', 'bluff', 'deputatskiy', 'coihaique', 'tautira', 'yingkou', 'mataura', 'atuona', 'hithadhoo', 'iqaluit', 'havre-saint-pierre', 'barrow', 'misratah', 'saldanha', 'havoysund', 'martapura', 'kaitangata', 'kahului', 'tiksi', 'yellowknife', 'east london', 'mogadishu', 'iquitos', 'montepuez', 'belushya guba', 'ancud', 'champerico', 'illoqqortoormiut', 'semnan', 'hermanus', 'arman', 'jinka', 'dzilam gonzalez', 'vangaindrano', 'salalah', 'dunedin', 'davila', 'padang', 'flinders', 'severo-kurilsk', 'lebu', 'arraial do cabo', 'cherskiy', 'vaitupu', 'umzimvubu', 'dickinson', 'port alfred', 'changji', 'qaanaaq', 'kruisfontein', 'laguna', 'ribeira grande', 'mount gambier', 'quatre cocos', 'radstadt', 'vaini', 'saint-philippe', 'thompson', 'te anau', 'khatanga', 'georgetown', 'muli', 'jamestown', 'abu kamal', 'maceio', 'faanui', 'hofn', 'san cristobal', 'pousat', 'junction city', 'putina', 'houma', 'upernavik', 'hamilton', 'utiroa', 'lagoa', 'myitkyina', 'lompoc', 'tabuk', 'nara', 'evensk', 'umm kaddadah', 'viligili', 'cabedelo', 'meyungs', 'poum', 'satitoa', 'buariki', 'louisbourg', 'ruatoria', 'agirish', 'mys shmidta', 'tungor', 'ballina', 'namatanai', 'puerto penasco', 'buraydah', 'terenos', 'airai', 'san rafael', 'tarudant', 'provideniya', 'porto franco', 'kuvandyk', 'bur gabo', 'olafsvik', 'dudinka', 'jawhar', 'baglung', 'svetlogorsk', 'paamiut', 'yanan', 'kapaa', 'wajid', 'albany', 'wahran', 'jiddah', 'saint-pierre', 'vao', 'ostrovnoy', 'sal rei', 'tatarsk', 'hovd', 'kendal', 'dingle', 'catamarca', 'mana', 'coahuayana', 'katsuura', 'kalmunai', 'leningradskiy', 'mount isa', 'santa maria', 'chokurdakh', 'karaul', 'komsomolskiy', 'ketchikan', 'upington', 'beidao', 'takayama', 'bambous virieux', 'sault sainte marie', 'constitucion', 'meiktila', 'tukan', 'hobart', 'zemio', 'catio', 'clyde river', 'eldorado', 'dikson', 'butaritari', 'ohangaron', 'chuy', 'ponta do sol', 'vysokogornyy', 'longyearbyen', 'buchanan', 'winnemucca', 'port elizabeth', 'torbay', 'buckeye', 'buala', 'grand gaube', 'clarence town', 'shimoda', 'tecoanapa', 'sand springs', 'sofiysk', 'tres arroyos', 'rawson', 'bengkulu', 'atar', 'krasnoselkup', 'sur', 'kamenskoye', 'barentsburg', 'meulaboh', 'sumbawa', 'tuktoyaktuk', 'mitsamiouli', 'lieksa', 'araouane', 'beloha', 'sayanogorsk', 'cefalu', 'tiruvottiyur', 'sentyabrskiy', 'puerto ayora', 'haibowan', 'medicine hat', 'bilibino', 'aksarka', 'victoria', 'kristiansund', 'korla', 'okhotsk', 'whitehorse', 'chengde', 'jamui', 'paranagua', 'nanortalik', 'bria', 'bijie', 'camopi', 'ialibu', 'strezhevoy', 'caxito', 'keti bandar', 'zhukovka', 'nouadhibou', 'zharkent', 'odesskoye', 'tigil', 'yantal', 'geraldton', 'toliary', 'bouar', 'corinto', 'tsihombe', 'weligama', 'grimshaw', 'buarcos', 'udachnyy', 'tabou', 'nha trang', 'rudkobing', 'alofi', 'banda aceh', 'cidreira', 'zigong', 'rojhan', 'margate', 'port blair', 'lodja', 'yulara', 'kimparana', 'nioro', 'mazagao', 'sahrak', 'haines junction', 'lolua', 'emerald', 'aklavik', 'sobolevo', 'luderitz', 'sao joao do piaui', 'mozarlandia', 'codrington', 'orissaare', 'ossora', 'klaksvik', 'miri', 'tessalit', 'santiago', 'kontagora', 'bugac', 'straumen', 'japoata', 'hasaki', 'qandala', 'kokstad', 'santa cruz', 'tazovskiy', 'zhanaozen', 'touros', 'parabel', 'tual', 'lagoa formosa', 'pevek', 'sekoma', 'alyangula', 'chimore', 'kayerkan', 'saskylakh', 'asau', 'tura', 'faya', 'lishui', 'caravelas', 'safwah', 'waipawa', 'pisco', 'itoigawa', 'atasu', 'san pedro', 'attawapiskat', 'karakendzha', 'raudeberg', 'mar del plata', 'pervomayskiy', 'pinega', 'rocha', 'leon valley', 'najran', 'sehithwa', 'fereydun kenar', 'ternate', 'kodiak', 'san francisco', 'askiz', 'gat', 'aboso', 'alice springs', 'druzhba', 'sitka', 'huancayo', 'oriximina', 'lgov', 'tomatlan', 'port-cartier', 'altamont', 'chicama', 'manavalakurichi', 'kautokeino', 'coolum beach', 'coquimbo', 'marcona', 'salta', 'hanna', 'vaitape', 'the pas', 'kropotkin', 'heihe', 'kuche', 'norman wells', 'grand river south east', 'seymchan', 'nadym', 'matay', 'keffi', 'saint anthony', 'makokou', 'port augusta', 'skagastrond', 'tete', 'rudnogorsk', 'jiutai', 'gazanjyk', 'basco', 'bharatpur', 'zeya', 'montbrison', 'mrirt', 'asheboro', 'ormara', 'lishan', 'kavaratti', 'kudahuvadhoo', 'trairi', 'baijiantan', 'siwan', 'yumen', 'tasiilaq', 'grindavik', 'turukhansk', 'trelew', 'belyy yar', 'prince rupert', 'husavik', 'conceicao do araguaia', 'lago da pedra', 'keuruu', 'kovur', 'dongkan', 'vokhtoga', 'acarau', 'uvinza', 'inirida', 'half moon bay', 'wladyslawowo', 'guerrero negro', 'dumas', 'bandrele', 'barabai', 'esperance', 'slupsk', 'sola', 'hay river', 'kattivakkam', 'kutum', 'tubruq', 'sinazongwe', 'marsabit', 'labuhan', 'tarasovskiy', 'khonuu', 'harper', 'erenhot', 'leh', 'seoul', 'dryden', 'nicoya', 'hualmay', 'reyes', 'avera', 'nerchinskiy zavod', 'vryburg', 'viedma', 'bambanglipuro', 'quetta', 'gualeguay', 'grimari', 'tuatapere', 'hervey bay', 'anadyr', 'areia branca', 'vardo', 'nova olimpia', 'biak', 'new norfolk', 'puro', 'bay roberts', 'ennis', 'iracoubo', 'flin flon', 'makung', 'san patricio', 'lugovoy', 'melito di porto salvo', 'panacan', 'yabrud', 'lere', 'mehamn', 'marzuq', 'isangel', 'necochea', 'pacific grove', 'darnah', 'adrar', 'wajima', 'hambantota', 'vostok', 'juquia', 'charters towers', 'vigeland', 'namibe', 'marawi', 'palm coast', 'kaihua', 'port hedland', 'nanyamba', 'pueblo', 'swan river', 'marsh harbour', 'ust-kulom', 'manta', 'bolungarvik', 'uvalde', 'cairns', 'nalut', 'nenagh', 'wilmington', 'kloulklubed', 'lata', 'bulungu', 'pingliang', 'loa janan', 'cockburn town', 'fort nelson', 'berezovyy', 'pilar', 'launceston', 'gillette', 'artyk', 'nhulunbuy', 'tera', 'soyo', 'pitimbu', 'vila franca do campo', 'pangai', 'la seyne-sur-mer', 'bubaque', 'chaihe', 'taltal', 'selma', 'moose factory', 'port lincoln', 'tanout', 'novikovo', 'burkhala', 'palabuhanratu', 'galle', 'ouadda', 'kedgwick', 'kizema', 'lavrentiya', 'itarema', 'batagay', 'vila do maio', 'lima', 'katobu', 'ust-tsilma', 'beatrice', 'yarqa', 'edgewater', 'urfa', 'akdepe', 'kandava', 'lorengau', 'christchurch', 'north bend', 'wanlaweyn', 'asmara', 'toma', 'samusu', 'itoman', 'mbanza-ngungu', 'warqla', 'virginia beach', 'benguela', 'rognan', 'bonavista', 'gandai', 'rexburg', 'tukrah', 'harer', 'puerto del rosario', 'barmer', 'alihe', 'otjimbingwe', 'aripuana', 'salinopolis', 'yar-sale', 'maniwaki', 'taoudenni', 'cuamba', 'fortuna', 'albertville', 'taraz', 'cururupu', 'talnakh', 'hami', 'kritsa', 'pangnirtung', 'namwala', 'ampanihy', 'gigmoto', 'altay', 'djambala', 'wangou', 'kegums', 'khandbari', 'tonota', 'san felipe', 'elko', 'richards bay', 'oneonta', 'nueva concepcion', 'siniscola', 'rach gia', 'ngorongoro', 'ishigaki', 'ilulissat', 'vanimo', 'sarkand', 'sakaraha', 'takaka', 'san rafael del sur', 'embu', 'izumo', 'one hundred mile house', 'vestmannaeyjar', 'banswada', 'nelson bay', 'bonthe', 'san juan del sur', 'nivala', 'mehran', 'otane', 'siderno', 'road town', 'sao joao da barra', 'kenai', 'saint-gabriel', 'binga', 'dyurtyuli', 'turayf', 'damara', 'tambopata', 'ingham', 'den helder', 'lowestoft']\n"
     ]
    }
   ],
   "source": [
    "print(cities)"
   ]
  },
  {
   "cell_type": "code",
   "execution_count": null,
   "id": "4f3c3415",
   "metadata": {},
   "outputs": [],
   "source": []
  }
 ],
 "metadata": {
  "kernelspec": {
   "display_name": "PythonData",
   "language": "python",
   "name": "pythondata"
  },
  "language_info": {
   "codemirror_mode": {
    "name": "ipython",
    "version": 3
   },
   "file_extension": ".py",
   "mimetype": "text/x-python",
   "name": "python",
   "nbconvert_exporter": "python",
   "pygments_lexer": "ipython3",
   "version": "3.8.8"
  }
 },
 "nbformat": 4,
 "nbformat_minor": 5
}
